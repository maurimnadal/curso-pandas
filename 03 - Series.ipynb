{
 "cells": [
  {
   "cell_type": "markdown",
   "metadata": {},
   "source": [
    "# Series"
   ]
  },
  {
   "cell_type": "code",
   "execution_count": 2,
   "metadata": {
    "tags": []
   },
   "outputs": [],
   "source": [
    "import pandas as pd"
   ]
  },
  {
   "cell_type": "markdown",
   "metadata": {
    "slideshow": {
     "slide_type": "-"
    }
   },
   "source": [
    "## Create a Series Object from a List\n",
    "- A pandas **Series** is a one-dimensional labelled array.\n",
    "- A Series combines the best features of a list and a dictionary.\n",
    "- A Series maintains a single collection of ordered values (i.e. a single column of data).\n",
    "- We can assign each value an identifier, which does not have to *be* unique."
   ]
  },
  {
   "cell_type": "code",
   "execution_count": 2,
   "metadata": {
    "tags": []
   },
   "outputs": [
    {
     "data": {
      "text/plain": [
       "0     Chocolate\n",
       "1    Strawberry\n",
       "2       Vanilla\n",
       "3         Grape\n",
       "dtype: object"
      ]
     },
     "execution_count": 2,
     "metadata": {},
     "output_type": "execute_result"
    }
   ],
   "source": [
    "ice_cream = [\"Chocolate\", \"Strawberry\", \"Vanilla\", \"Grape\"]\n",
    "\n",
    "pd.Series(ice_cream)"
   ]
  },
  {
   "cell_type": "code",
   "execution_count": 3,
   "metadata": {
    "tags": []
   },
   "outputs": [
    {
     "data": {
      "text/plain": [
       "0     4\n",
       "1     8\n",
       "2    15\n",
       "3    16\n",
       "4    23\n",
       "5    42\n",
       "dtype: int64"
      ]
     },
     "execution_count": 3,
     "metadata": {},
     "output_type": "execute_result"
    }
   ],
   "source": [
    "lottery_numbers = [4, 8, 15, 16, 23, 42]\n",
    "pd.Series(lottery_numbers)"
   ]
  },
  {
   "cell_type": "code",
   "execution_count": 4,
   "metadata": {
    "tags": []
   },
   "outputs": [
    {
     "data": {
      "text/plain": [
       "0     True\n",
       "1    False\n",
       "2    False\n",
       "3    False\n",
       "4     True\n",
       "dtype: bool"
      ]
     },
     "execution_count": 4,
     "metadata": {},
     "output_type": "execute_result"
    }
   ],
   "source": [
    "registrations = [True, False, False, False, True]\n",
    "\n",
    "pd.Series(registrations)"
   ]
  },
  {
   "cell_type": "markdown",
   "metadata": {},
   "source": [
    "## Create a Series Object from a Dictionary"
   ]
  },
  {
   "cell_type": "code",
   "execution_count": 6,
   "metadata": {
    "tags": []
   },
   "outputs": [
    {
     "data": {
      "text/plain": [
       "Salmon    Orange\n",
       "Tuna         Red\n",
       "Eel        Brown\n",
       "dtype: object"
      ]
     },
     "execution_count": 6,
     "metadata": {},
     "output_type": "execute_result"
    }
   ],
   "source": [
    "sushi = {\n",
    "    \"Salmon\": \"Orange\",\n",
    "    \"Tuna\": \"Red\",\n",
    "    \"Eel\": \"Brown\"\n",
    "}\n",
    "\n",
    "pd.Series(sushi)"
   ]
  },
  {
   "cell_type": "markdown",
   "metadata": {},
   "source": [
    "## Intro to Series Methods\n",
    "- The syntax to invoke a method on any object is `object.method()`.\n",
    "- The `sum` method adds together the **Series'** values.\n",
    "- The `product` method multiplies the **Series'** values.\n",
    "- The `mean` method finds the average of the **Series'** values.\n",
    "- The `std` method finds the standard deviation of the **Series'** values."
   ]
  },
  {
   "cell_type": "code",
   "execution_count": 9,
   "metadata": {
    "tags": []
   },
   "outputs": [
    {
     "data": {
      "text/plain": [
       "0    2.99\n",
       "1    4.45\n",
       "2    1.36\n",
       "dtype: float64"
      ]
     },
     "execution_count": 9,
     "metadata": {},
     "output_type": "execute_result"
    }
   ],
   "source": [
    "prices = pd.Series([2.99, 4.45, 1.36])\n",
    "prices"
   ]
  },
  {
   "cell_type": "code",
   "execution_count": 10,
   "metadata": {
    "tags": []
   },
   "outputs": [
    {
     "data": {
      "text/plain": [
       "8.8"
      ]
     },
     "execution_count": 10,
     "metadata": {},
     "output_type": "execute_result"
    }
   ],
   "source": [
    "prices.sum()"
   ]
  },
  {
   "cell_type": "code",
   "execution_count": 11,
   "metadata": {
    "tags": []
   },
   "outputs": [
    {
     "data": {
      "text/plain": [
       "18.095480000000006"
      ]
     },
     "execution_count": 11,
     "metadata": {},
     "output_type": "execute_result"
    }
   ],
   "source": [
    "prices.product()"
   ]
  },
  {
   "cell_type": "code",
   "execution_count": 12,
   "metadata": {
    "tags": []
   },
   "outputs": [
    {
     "data": {
      "text/plain": [
       "2.9333333333333336"
      ]
     },
     "execution_count": 12,
     "metadata": {},
     "output_type": "execute_result"
    }
   ],
   "source": [
    "prices.mean()"
   ]
  },
  {
   "cell_type": "code",
   "execution_count": 13,
   "metadata": {
    "tags": []
   },
   "outputs": [
    {
     "data": {
      "text/plain": [
       "1.5457791994115246"
      ]
     },
     "execution_count": 13,
     "metadata": {},
     "output_type": "execute_result"
    }
   ],
   "source": [
    "prices.std()"
   ]
  },
  {
   "cell_type": "markdown",
   "metadata": {},
   "source": [
    "## Intro to Attributes\n",
    "- An **attribute** is a piece of data that lives on an object.\n",
    "- An **attribute** is a fact, a detail, a characteristic of the object.\n",
    "- Access an attribute with `object.attribute` syntax.\n",
    "- The `size` attribute returns a count of the number of values in the **Series**.\n",
    "- The `is_unique` attribute returns True if the **Series** has no duplicate values.\n",
    "- The `values` and `index` attributes return the underlying objects that holds the **Series'** values and index labels."
   ]
  },
  {
   "cell_type": "code",
   "execution_count": 4,
   "metadata": {
    "tags": []
   },
   "outputs": [
    {
     "data": {
      "text/plain": [
       "0        Smart\n",
       "1     Handsome\n",
       "2    Brilliant\n",
       "3       Humble\n",
       "4     Charming\n",
       "5        Smart\n",
       "dtype: object"
      ]
     },
     "execution_count": 4,
     "metadata": {},
     "output_type": "execute_result"
    }
   ],
   "source": [
    "adjectives = pd.Series([\"Smart\", \"Handsome\", \"Brilliant\", \"Humble\", \"Charming\", \"Smart\"])\n",
    "adjectives"
   ]
  },
  {
   "cell_type": "code",
   "execution_count": 19,
   "metadata": {
    "tags": []
   },
   "outputs": [
    {
     "data": {
      "text/plain": [
       "6"
      ]
     },
     "execution_count": 19,
     "metadata": {},
     "output_type": "execute_result"
    }
   ],
   "source": [
    "adjectives.size"
   ]
  },
  {
   "cell_type": "code",
   "execution_count": 20,
   "metadata": {
    "tags": []
   },
   "outputs": [
    {
     "data": {
      "text/plain": [
       "False"
      ]
     },
     "execution_count": 20,
     "metadata": {},
     "output_type": "execute_result"
    }
   ],
   "source": [
    "adjectives.is_unique"
   ]
  },
  {
   "cell_type": "code",
   "execution_count": 21,
   "metadata": {
    "tags": []
   },
   "outputs": [
    {
     "data": {
      "text/plain": [
       "array(['Smart', 'Handsome', 'Brilliant', 'Humble', 'Charming', 'Smart'],\n",
       "      dtype=object)"
      ]
     },
     "execution_count": 21,
     "metadata": {},
     "output_type": "execute_result"
    }
   ],
   "source": [
    "adjectives.values"
   ]
  },
  {
   "cell_type": "code",
   "execution_count": 22,
   "metadata": {
    "tags": []
   },
   "outputs": [
    {
     "data": {
      "text/plain": [
       "RangeIndex(start=0, stop=6, step=1)"
      ]
     },
     "execution_count": 22,
     "metadata": {},
     "output_type": "execute_result"
    }
   ],
   "source": [
    "adjectives.index"
   ]
  },
  {
   "cell_type": "code",
   "execution_count": 5,
   "metadata": {
    "tags": []
   },
   "outputs": [
    {
     "data": {
      "text/plain": [
       "numpy.ndarray"
      ]
     },
     "execution_count": 5,
     "metadata": {},
     "output_type": "execute_result"
    }
   ],
   "source": [
    "type(adjectives.values)"
   ]
  },
  {
   "cell_type": "code",
   "execution_count": 6,
   "metadata": {
    "tags": []
   },
   "outputs": [
    {
     "data": {
      "text/plain": [
       "pandas.core.indexes.range.RangeIndex"
      ]
     },
     "execution_count": 6,
     "metadata": {},
     "output_type": "execute_result"
    }
   ],
   "source": [
    "type(adjectives.index)"
   ]
  },
  {
   "cell_type": "markdown",
   "metadata": {},
   "source": [
    "## Parameters and Arguments\n",
    "- A **parameter** is the name for an expected input to a function/method/class instantiation.\n",
    "- An **argument** is the concrete value we provide for a parameter during invocation.\n",
    "- We can pass arguments either sequentially (based on parameter order) or with explicit parameter names written out.\n",
    "- The first two parameters for the **Series** constructor are `data` and `index`, which represent the values and the index labels."
   ]
  },
  {
   "cell_type": "code",
   "execution_count": 10,
   "metadata": {
    "tags": []
   },
   "outputs": [],
   "source": [
    "fruits = [\"Apple\", \"Orange\", \"Grape\", \"Blueberry\", \"Watermelon\"]\n",
    "weekdays = [\"Monday\", \"Tuesday\", \"Wednesday\", \"Thursday\", \"Friday\"]"
   ]
  },
  {
   "cell_type": "code",
   "execution_count": 13,
   "metadata": {
    "tags": []
   },
   "outputs": [
    {
     "data": {
      "text/plain": [
       "Apple            Monday\n",
       "Orange          Tuesday\n",
       "Grape         Wednesday\n",
       "Blueberry      Thursday\n",
       "Watermelon       Friday\n",
       "dtype: object"
      ]
     },
     "execution_count": 13,
     "metadata": {},
     "output_type": "execute_result"
    }
   ],
   "source": [
    "pd.Series(fruits)\n",
    "pd.Series(weekdays)\n",
    "pd.Series(fruits, weekdays)\n",
    "pd.Series(weekdays, fruits)"
   ]
  },
  {
   "cell_type": "code",
   "execution_count": 16,
   "metadata": {
    "tags": []
   },
   "outputs": [
    {
     "data": {
      "text/plain": [
       "Monday            Apple\n",
       "Tuesday          Orange\n",
       "Wednesday         Grape\n",
       "Thursday      Blueberry\n",
       "Friday       Watermelon\n",
       "dtype: object"
      ]
     },
     "execution_count": 16,
     "metadata": {},
     "output_type": "execute_result"
    }
   ],
   "source": [
    "pd.Series(data=fruits, index=weekdays)\n",
    "pd.Series(index=weekdays, data=fruits)"
   ]
  },
  {
   "cell_type": "code",
   "execution_count": null,
   "metadata": {
    "tags": []
   },
   "outputs": [],
   "source": []
  },
  {
   "cell_type": "code",
   "execution_count": null,
   "metadata": {},
   "outputs": [],
   "source": []
  },
  {
   "cell_type": "code",
   "execution_count": null,
   "metadata": {
    "tags": []
   },
   "outputs": [],
   "source": []
  },
  {
   "cell_type": "markdown",
   "metadata": {},
   "source": [
    "## Import Series with the pd.read_csv Function\n",
    "- A **CSV** is a plain text file that uses line breaks to separate rows and commas to separate row values.\n",
    "- Pandas ships with many different `read_` functions for different types of files.\n",
    "- The `read_csv` function accepts many different parameters. The first one specifies the file name/path.\n",
    "- The `read_csv` function will import the dataset as a **DataFrame**, a 2-dimensional table.\n",
    "- The `usecols` parameter accepts a list of the column(s) to import.\n",
    "- The `squeeze` method converts a **DataFrame** to a **Series**."
   ]
  },
  {
   "cell_type": "code",
   "execution_count": 20,
   "metadata": {
    "tags": []
   },
   "outputs": [
    {
     "data": {
      "text/plain": [
       "0          Bulbasaur\n",
       "1            Ivysaur\n",
       "2           Venusaur\n",
       "3         Charmander\n",
       "4         Charmeleon\n",
       "            ...     \n",
       "1005    Iron Valiant\n",
       "1006        Koraidon\n",
       "1007        Miraidon\n",
       "1008    Walking Wake\n",
       "1009     Iron Leaves\n",
       "Name: Name, Length: 1010, dtype: object"
      ]
     },
     "execution_count": 20,
     "metadata": {},
     "output_type": "execute_result"
    }
   ],
   "source": [
    "pokemon = pd.read_csv(\"pokemon.csv\", usecols=[\"Name\"]).squeeze(\"columns\")\n",
    "pokemon"
   ]
  },
  {
   "cell_type": "code",
   "execution_count": 26,
   "metadata": {
    "tags": []
   },
   "outputs": [
    {
     "data": {
      "text/plain": [
       "0         2.490664\n",
       "1         2.515820\n",
       "2         2.758411\n",
       "3         2.770615\n",
       "4         2.614201\n",
       "           ...    \n",
       "4788    132.080002\n",
       "4789    132.998001\n",
       "4790    135.570007\n",
       "4791    137.050003\n",
       "4792    138.429993\n",
       "Name: Price, Length: 4793, dtype: float64"
      ]
     },
     "execution_count": 26,
     "metadata": {},
     "output_type": "execute_result"
    }
   ],
   "source": [
    "google = pd.read_csv(\"google_stock_price.csv\", usecols=[\"Price\"]).squeeze(\"columns\")\n",
    "\n",
    "google"
   ]
  },
  {
   "cell_type": "markdown",
   "metadata": {},
   "source": [
    "## The head and tail Methods\n",
    "- The `head` method returns a number of rows from the top/beginning of the `Series`.\n",
    "- The `tail` method returns a number of rows from the bottom/end of the `Series`."
   ]
  },
  {
   "cell_type": "code",
   "execution_count": 27,
   "metadata": {
    "tags": []
   },
   "outputs": [],
   "source": [
    "pokemon = pd.read_csv(\"pokemon.csv\", usecols=[\"Name\"]).squeeze(\"columns\")\n",
    "google = pd.read_csv(\"google_stock_price.csv\", usecols=[\"Price\"]).squeeze(\"columns\")"
   ]
  },
  {
   "cell_type": "code",
   "execution_count": 31,
   "metadata": {
    "tags": []
   },
   "outputs": [
    {
     "data": {
      "text/plain": [
       "0     Bulbasaur\n",
       "1       Ivysaur\n",
       "2      Venusaur\n",
       "3    Charmander\n",
       "4    Charmeleon\n",
       "5     Charizard\n",
       "6      Squirtle\n",
       "7     Wartortle\n",
       "8     Blastoise\n",
       "Name: Name, dtype: object"
      ]
     },
     "execution_count": 31,
     "metadata": {},
     "output_type": "execute_result"
    }
   ],
   "source": [
    "pokemon.head(9)"
   ]
  },
  {
   "cell_type": "code",
   "execution_count": 33,
   "metadata": {
    "tags": []
   },
   "outputs": [
    {
     "data": {
      "text/plain": [
       "4783    127.849998\n",
       "4784    129.130005\n",
       "4785    130.850006\n",
       "4786    134.727005\n",
       "4787    130.139999\n",
       "4788    132.080002\n",
       "4789    132.998001\n",
       "4790    135.570007\n",
       "4791    137.050003\n",
       "4792    138.429993\n",
       "Name: Price, dtype: float64"
      ]
     },
     "execution_count": 33,
     "metadata": {},
     "output_type": "execute_result"
    }
   ],
   "source": [
    "google.tail(10)"
   ]
  },
  {
   "cell_type": "markdown",
   "metadata": {},
   "source": [
    "## Passing Series to Python's Built-In Functions\n",
    "- The `len` function returns the length of the **Series**.\n",
    "- The `type` function returns the type of an object.\n",
    "- The `list` function converts the **Series** to a list.\n",
    "- The `dict` function converts the **Series** to a dictionary.\n",
    "- The `sorted` function converts the **Series** to a sorted list.\n",
    "- The `max` function returns the largest value in the **Series**.\n",
    "- The `min` function returns the smalllest value in the **Series**."
   ]
  },
  {
   "cell_type": "code",
   "execution_count": 34,
   "metadata": {
    "tags": []
   },
   "outputs": [],
   "source": [
    "pokemon = pd.read_csv(\"pokemon.csv\", usecols=[\"Name\"]).squeeze(\"columns\")\n",
    "google = pd.read_csv(\"google_stock_price.csv\", usecols=[\"Price\"]).squeeze(\"columns\")"
   ]
  },
  {
   "cell_type": "code",
   "execution_count": 44,
   "metadata": {
    "tags": []
   },
   "outputs": [
    {
     "data": {
      "text/plain": [
       "'Abomasnow'"
      ]
     },
     "execution_count": 44,
     "metadata": {},
     "output_type": "execute_result"
    }
   ],
   "source": [
    "len(pokemon)\n",
    "type(pokemon)\n",
    "list(pokemon)\n",
    "sorted(pokemon)\n",
    "sorted(google)\n",
    "dict(pokemon)\n",
    "\n",
    "max(google)\n",
    "min(google)\n",
    "\n",
    "max(pokemon)\n",
    "min(pokemon)"
   ]
  },
  {
   "cell_type": "code",
   "execution_count": null,
   "metadata": {
    "tags": []
   },
   "outputs": [],
   "source": []
  },
  {
   "cell_type": "markdown",
   "metadata": {},
   "source": [
    "## Check for Inclusion with Python's in Keyword\n",
    "- The `in` keyword checks if a value exists within an object.\n",
    "- The `in` keyword will look for a value in the **Series's** index.\n",
    "- Use the `index` and `values` attributes to access \"nested\" objects within the **Series**.\n",
    "- Combine the `in` keyword with `values` to search within the **Series's** values."
   ]
  },
  {
   "cell_type": "code",
   "execution_count": 45,
   "metadata": {
    "tags": []
   },
   "outputs": [],
   "source": [
    "pokemon = pd.read_csv(\"pokemon.csv\", usecols=[\"Name\"]).squeeze(\"columns\")\n",
    "google = pd.read_csv(\"google_stock_price.csv\", usecols=[\"Price\"]).squeeze(\"columns\")"
   ]
  },
  {
   "cell_type": "code",
   "execution_count": 49,
   "metadata": {
    "tags": []
   },
   "outputs": [
    {
     "data": {
      "text/plain": [
       "True"
      ]
     },
     "execution_count": 49,
     "metadata": {},
     "output_type": "execute_result"
    }
   ],
   "source": [
    "\"Bulbasaur\" in pokemon\n",
    "0 in pokemon.index\n",
    "\"Bulbasaur\" in pokemon.values\n",
    "\"Slowpoke\" in pokemon.values"
   ]
  },
  {
   "cell_type": "markdown",
   "metadata": {},
   "source": [
    "## The sort_values Method\n",
    "- The `sort_values` method sorts a **Series** values in order.\n",
    "- By default, pandas applies an ascending sort (smallest to largest).\n",
    "- Customize the sort order with the `ascending` parameter."
   ]
  },
  {
   "cell_type": "code",
   "execution_count": 53,
   "metadata": {
    "tags": []
   },
   "outputs": [
    {
     "data": {
      "text/plain": [
       "4395    151.863495\n",
       "4345    151.000000\n",
       "4346    150.141754\n",
       "4336    150.000000\n",
       "4341    150.000000\n",
       "Name: Price, dtype: float64"
      ]
     },
     "execution_count": 53,
     "metadata": {},
     "output_type": "execute_result"
    }
   ],
   "source": [
    "google.sort_values()\n",
    "google.sort_values(ascending=False).head()"
   ]
  },
  {
   "cell_type": "code",
   "execution_count": 58,
   "metadata": {
    "tags": []
   },
   "outputs": [
    {
     "data": {
      "text/plain": [
       "680    Aegislash\n",
       "616     Accelgor\n",
       "358        Absol\n",
       "62          Abra\n",
       "459    Abomasnow\n",
       "Name: Name, dtype: object"
      ]
     },
     "execution_count": 58,
     "metadata": {},
     "output_type": "execute_result"
    }
   ],
   "source": [
    "pokemon.sort_values()\n",
    "pokemon.sort_values(ascending=False).tail()"
   ]
  },
  {
   "cell_type": "code",
   "execution_count": null,
   "metadata": {
    "tags": []
   },
   "outputs": [],
   "source": []
  },
  {
   "cell_type": "markdown",
   "metadata": {},
   "source": [
    "## The sort_index Method\n",
    "- The `sort_index` method sorts a **Series** by its index.\n",
    "- The `sort_index` method also accepts an `ascending` parameter to set sort order."
   ]
  },
  {
   "cell_type": "code",
   "execution_count": 61,
   "metadata": {
    "tags": []
   },
   "outputs": [],
   "source": [
    "pokemon = pd.read_csv(\"pokemon.csv\", index_col=\"Name\").squeeze(\"columns\")"
   ]
  },
  {
   "cell_type": "code",
   "execution_count": 63,
   "metadata": {
    "tags": []
   },
   "outputs": [
    {
     "data": {
      "text/plain": [
       "Name\n",
       "Zygarde      Dragon, Ground\n",
       "Zweilous       Dark, Dragon\n",
       "Zubat        Poison, Flying\n",
       "Zorua                  Dark\n",
       "Zoroark                Dark\n",
       "                  ...      \n",
       "Aegislash      Steel, Ghost\n",
       "Accelgor                Bug\n",
       "Absol                  Dark\n",
       "Abra                Psychic\n",
       "Abomasnow        Grass, Ice\n",
       "Name: Type, Length: 1010, dtype: object"
      ]
     },
     "execution_count": 63,
     "metadata": {},
     "output_type": "execute_result"
    }
   ],
   "source": [
    "pokemon.sort_index()\n",
    "pokemon.sort_index(ascending=False)"
   ]
  },
  {
   "cell_type": "markdown",
   "metadata": {},
   "source": [
    "## Extract Series Value by Index Position\n",
    "- Use the `iloc` accessor to extract a **Series** value by its index position.\n",
    "- `iloc` is short for \"index location\".\n",
    "- Python's list slicing syntaxes (slices, slices from start, slices to end, etc.) are supported with **Series** objects."
   ]
  },
  {
   "cell_type": "code",
   "execution_count": 64,
   "metadata": {
    "tags": []
   },
   "outputs": [],
   "source": [
    "pokemon = pd.read_csv(\"pokemon.csv\", usecols=[\"Name\"]).squeeze(\"columns\")\n",
    "google = pd.read_csv(\"google_stock_price.csv\", usecols=[\"Price\"]).squeeze(\"columns\")"
   ]
  },
  {
   "cell_type": "code",
   "execution_count": 78,
   "metadata": {
    "tags": []
   },
   "outputs": [
    {
     "data": {
      "text/plain": [
       "0       Bulbasaur\n",
       "1         Ivysaur\n",
       "2        Venusaur\n",
       "3      Charmander\n",
       "4      Charmeleon\n",
       "          ...    \n",
       "995      Frigibax\n",
       "996      Arctibax\n",
       "997    Baxcalibur\n",
       "998    Gimmighoul\n",
       "999     Gholdengo\n",
       "Name: Name, Length: 1000, dtype: object"
      ]
     },
     "execution_count": 78,
     "metadata": {},
     "output_type": "execute_result"
    }
   ],
   "source": [
    "pokemon.iloc[150]\n",
    "pokemon.iloc[[100, 200, 300]]\n",
    "pokemon.iloc[20: 30]\n",
    "pokemon.iloc[:9]\n",
    "pokemon.iloc[950:]\n",
    "\n",
    "pokemon.iloc[-1]\n",
    "pokemon.iloc[-10:-5]\n",
    "pokemon.iloc[-8:]\n",
    "pokemon.iloc[:-10]"
   ]
  },
  {
   "cell_type": "markdown",
   "metadata": {},
   "source": [
    "## Extract Series Value by Index Label\n",
    "- Use the `loc` accessor to extract a **Series** value by its index label.\n",
    "- Pass a list to extract multiple values by index label.\n",
    "- If one index label/position in the list does not exist, Pandas will raise an error."
   ]
  },
  {
   "cell_type": "code",
   "execution_count": 80,
   "metadata": {
    "tags": []
   },
   "outputs": [
    {
     "data": {
      "text/plain": [
       "Name\n",
       "Bulbasaur          Grass, Poison\n",
       "Ivysaur            Grass, Poison\n",
       "Venusaur           Grass, Poison\n",
       "Charmander                  Fire\n",
       "Charmeleon                  Fire\n",
       "                      ...       \n",
       "Iron Valiant     Fairy, Fighting\n",
       "Koraidon        Fighting, Dragon\n",
       "Miraidon        Electric, Dragon\n",
       "Walking Wake       Water, Dragon\n",
       "Iron Leaves       Grass, Psychic\n",
       "Name: Type, Length: 1010, dtype: object"
      ]
     },
     "execution_count": 80,
     "metadata": {},
     "output_type": "execute_result"
    }
   ],
   "source": [
    "pokemon = pd.read_csv(\"pokemon.csv\", index_col=\"Name\").squeeze(\"columns\")\n",
    "pokemon"
   ]
  },
  {
   "cell_type": "code",
   "execution_count": 86,
   "metadata": {
    "tags": []
   },
   "outputs": [
    {
     "data": {
      "text/plain": [
       "'Grass, Poison'"
      ]
     },
     "execution_count": 86,
     "metadata": {},
     "output_type": "execute_result"
    }
   ],
   "source": [
    "pokemon.loc[\"Bulbasaur\"]\n",
    "pokemon.iloc[0]"
   ]
  },
  {
   "cell_type": "code",
   "execution_count": 82,
   "metadata": {
    "tags": []
   },
   "outputs": [
    {
     "data": {
      "text/plain": [
       "'Water, Psychic'"
      ]
     },
     "execution_count": 82,
     "metadata": {},
     "output_type": "execute_result"
    }
   ],
   "source": [
    "pokemon.loc[\"Slowpoke\"]"
   ]
  },
  {
   "cell_type": "code",
   "execution_count": 87,
   "metadata": {
    "tags": []
   },
   "outputs": [
    {
     "data": {
      "text/plain": [
       "Name\n",
       "Pikachu          Electric\n",
       "Charizard    Fire, Flying\n",
       "Meowth             Normal\n",
       "Name: Type, dtype: object"
      ]
     },
     "execution_count": 87,
     "metadata": {},
     "output_type": "execute_result"
    }
   ],
   "source": [
    "pokemon.loc[[\"Pikachu\", \"Charizard\", \"Meowth\"]]"
   ]
  },
  {
   "cell_type": "markdown",
   "metadata": {},
   "source": [
    "## The get Method on a Series\n",
    "- The `get` method extracts a **Series** value by index label. It is an alternative option to square brackets.\n",
    "- The `get` method's second argument sets the fallback value to return if the label/position does not exist."
   ]
  },
  {
   "cell_type": "code",
   "execution_count": 94,
   "metadata": {
    "tags": []
   },
   "outputs": [
    {
     "data": {
      "text/plain": [
       "'One of the values is Nonexistent'"
      ]
     },
     "execution_count": 94,
     "metadata": {},
     "output_type": "execute_result"
    }
   ],
   "source": [
    "pokemon.get(\"Moltres\")\n",
    "pokemon.get(\"Digimon\")\n",
    "pokemon.get(\"Digimon\", \"Nonexistent\")\n",
    "pokemon.get(\"Slowpoke\", \"Nonexistent\")\n",
    "\n",
    "pokemon.get([\"Moltres\", \"Digimon\"], \"One of the values is Nonexistent\")"
   ]
  },
  {
   "cell_type": "code",
   "execution_count": null,
   "metadata": {
    "tags": []
   },
   "outputs": [],
   "source": []
  },
  {
   "cell_type": "markdown",
   "metadata": {
    "tags": []
   },
   "source": [
    "## Overwrite a Series Value\n",
    "- Use the `loc/iloc` accessor to target an index label/position, then use an equal sign to provide a new value."
   ]
  },
  {
   "cell_type": "code",
   "execution_count": null,
   "metadata": {},
   "outputs": [],
   "source": [
    "pokemon = pd.read_csv(\"pokemon.csv\", usecols=[\"Name\"]).squeeze(\"columns\")\n"
   ]
  },
  {
   "cell_type": "code",
   "execution_count": 97,
   "metadata": {
    "tags": []
   },
   "outputs": [],
   "source": [
    "pokemon.iloc[[1, 2, 4]] = [\"Firemon\", \"Flameon\", \"Blza\"]"
   ]
  },
  {
   "cell_type": "code",
   "execution_count": 98,
   "metadata": {
    "tags": []
   },
   "outputs": [
    {
     "data": {
      "text/plain": [
       "0     Bulbasaur\n",
       "1       Firemon\n",
       "2       Flameon\n",
       "3    Charmander\n",
       "4      Blazemon\n",
       "Name: Name, dtype: object"
      ]
     },
     "execution_count": 98,
     "metadata": {},
     "output_type": "execute_result"
    }
   ],
   "source": [
    "pokemon.head()"
   ]
  },
  {
   "cell_type": "code",
   "execution_count": 99,
   "metadata": {
    "tags": []
   },
   "outputs": [
    {
     "data": {
      "text/plain": [
       "Name\n",
       "Bulbasaur          Grass, Poison\n",
       "Ivysaur            Grass, Poison\n",
       "Venusaur           Grass, Poison\n",
       "Charmander                  Fire\n",
       "Charmeleon                  Fire\n",
       "                      ...       \n",
       "Iron Valiant     Fairy, Fighting\n",
       "Koraidon        Fighting, Dragon\n",
       "Miraidon        Electric, Dragon\n",
       "Walking Wake       Water, Dragon\n",
       "Iron Leaves       Grass, Psychic\n",
       "Name: Type, Length: 1010, dtype: object"
      ]
     },
     "execution_count": 99,
     "metadata": {},
     "output_type": "execute_result"
    }
   ],
   "source": [
    "pokemon = pd.read_csv(\"pokemon.csv\", index_col=\"Name\").squeeze(\"columns\")\n",
    "pokemon"
   ]
  },
  {
   "cell_type": "code",
   "execution_count": 100,
   "metadata": {
    "tags": []
   },
   "outputs": [],
   "source": [
    "pokemon.loc[\"Bulbasaur\"] = \"Fat Ass\""
   ]
  },
  {
   "cell_type": "code",
   "execution_count": 101,
   "metadata": {
    "tags": []
   },
   "outputs": [
    {
     "data": {
      "text/plain": [
       "Name\n",
       "Bulbasaur           Fat Ass\n",
       "Ivysaur       Grass, Poison\n",
       "Venusaur      Grass, Poison\n",
       "Charmander             Fire\n",
       "Charmeleon             Fire\n",
       "Name: Type, dtype: object"
      ]
     },
     "execution_count": 101,
     "metadata": {},
     "output_type": "execute_result"
    }
   ],
   "source": [
    "pokemon.head()"
   ]
  },
  {
   "cell_type": "code",
   "execution_count": 103,
   "metadata": {
    "tags": []
   },
   "outputs": [
    {
     "data": {
      "text/plain": [
       "Name\n",
       "Bulbasaur           Fat Ass\n",
       "Ivysaur               Silly\n",
       "Venusaur      Grass, Poison\n",
       "Charmander             Fire\n",
       "Charmeleon             Fire\n",
       "Name: Type, dtype: object"
      ]
     },
     "execution_count": 103,
     "metadata": {},
     "output_type": "execute_result"
    }
   ],
   "source": [
    "pokemon.iloc[1] = \"Silly\"\n",
    "pokemon.head()"
   ]
  },
  {
   "cell_type": "code",
   "execution_count": 105,
   "metadata": {
    "tags": []
   },
   "outputs": [
    {
     "data": {
      "text/plain": [
       "Name\n",
       "Bulbasaur     Something else\n",
       "Ivysaur                Silly\n",
       "Venusaur       Grass, Poison\n",
       "Charmander              Fire\n",
       "Charmeleon              Fire\n",
       "Name: Type, dtype: object"
      ]
     },
     "execution_count": 105,
     "metadata": {},
     "output_type": "execute_result"
    }
   ],
   "source": [
    "pokemon[\"Bulbasaur\"] = \"Something else\"\n",
    "pokemon.head()"
   ]
  },
  {
   "cell_type": "code",
   "execution_count": null,
   "metadata": {},
   "outputs": [],
   "source": []
  },
  {
   "cell_type": "markdown",
   "metadata": {},
   "source": [
    "## The copy Method\n",
    "- A **copy** is a duplicate/replica of an object.\n",
    "- Changes to a copy do not modify the original object.\n",
    "- A **view** is a different way of looking at the *same* data.\n",
    "- Changes to a view *do* modify the original object.\n",
    "- The `copy` method creates a copy of a pandas object."
   ]
  },
  {
   "cell_type": "code",
   "execution_count": 116,
   "metadata": {
    "tags": []
   },
   "outputs": [],
   "source": [
    "pokemon_df = pd.read_csv(\"pokemon.csv\", usecols=[\"Name\"])\n",
    "pokemon_series = pokemon_df.squeeze(\"columns\").copy()"
   ]
  },
  {
   "cell_type": "code",
   "execution_count": 117,
   "metadata": {
    "tags": []
   },
   "outputs": [
    {
     "data": {
      "text/html": [
       "<div>\n",
       "<style scoped>\n",
       "    .dataframe tbody tr th:only-of-type {\n",
       "        vertical-align: middle;\n",
       "    }\n",
       "\n",
       "    .dataframe tbody tr th {\n",
       "        vertical-align: top;\n",
       "    }\n",
       "\n",
       "    .dataframe thead th {\n",
       "        text-align: right;\n",
       "    }\n",
       "</style>\n",
       "<table border=\"1\" class=\"dataframe\">\n",
       "  <thead>\n",
       "    <tr style=\"text-align: right;\">\n",
       "      <th></th>\n",
       "      <th>Name</th>\n",
       "    </tr>\n",
       "  </thead>\n",
       "  <tbody>\n",
       "    <tr>\n",
       "      <th>0</th>\n",
       "      <td>Bulbasaur</td>\n",
       "    </tr>\n",
       "    <tr>\n",
       "      <th>1</th>\n",
       "      <td>Ivysaur</td>\n",
       "    </tr>\n",
       "    <tr>\n",
       "      <th>2</th>\n",
       "      <td>Venusaur</td>\n",
       "    </tr>\n",
       "    <tr>\n",
       "      <th>3</th>\n",
       "      <td>Charmander</td>\n",
       "    </tr>\n",
       "    <tr>\n",
       "      <th>4</th>\n",
       "      <td>Charmeleon</td>\n",
       "    </tr>\n",
       "    <tr>\n",
       "      <th>...</th>\n",
       "      <td>...</td>\n",
       "    </tr>\n",
       "    <tr>\n",
       "      <th>1005</th>\n",
       "      <td>Iron Valiant</td>\n",
       "    </tr>\n",
       "    <tr>\n",
       "      <th>1006</th>\n",
       "      <td>Koraidon</td>\n",
       "    </tr>\n",
       "    <tr>\n",
       "      <th>1007</th>\n",
       "      <td>Miraidon</td>\n",
       "    </tr>\n",
       "    <tr>\n",
       "      <th>1008</th>\n",
       "      <td>Walking Wake</td>\n",
       "    </tr>\n",
       "    <tr>\n",
       "      <th>1009</th>\n",
       "      <td>Iron Leaves</td>\n",
       "    </tr>\n",
       "  </tbody>\n",
       "</table>\n",
       "<p>1010 rows × 1 columns</p>\n",
       "</div>"
      ],
      "text/plain": [
       "              Name\n",
       "0        Bulbasaur\n",
       "1          Ivysaur\n",
       "2         Venusaur\n",
       "3       Charmander\n",
       "4       Charmeleon\n",
       "...            ...\n",
       "1005  Iron Valiant\n",
       "1006      Koraidon\n",
       "1007      Miraidon\n",
       "1008  Walking Wake\n",
       "1009   Iron Leaves\n",
       "\n",
       "[1010 rows x 1 columns]"
      ]
     },
     "execution_count": 117,
     "metadata": {},
     "output_type": "execute_result"
    }
   ],
   "source": [
    "pokemon_df"
   ]
  },
  {
   "cell_type": "code",
   "execution_count": 118,
   "metadata": {
    "tags": []
   },
   "outputs": [],
   "source": [
    "pokemon_series[0] = \"Whatever\""
   ]
  },
  {
   "cell_type": "code",
   "execution_count": 119,
   "metadata": {
    "tags": []
   },
   "outputs": [
    {
     "data": {
      "text/plain": [
       "0      Whatever\n",
       "1       Ivysaur\n",
       "2      Venusaur\n",
       "3    Charmander\n",
       "4    Charmeleon\n",
       "Name: Name, dtype: object"
      ]
     },
     "execution_count": 119,
     "metadata": {},
     "output_type": "execute_result"
    }
   ],
   "source": [
    "pokemon_series.head()"
   ]
  },
  {
   "cell_type": "code",
   "execution_count": 120,
   "metadata": {
    "tags": []
   },
   "outputs": [
    {
     "data": {
      "text/html": [
       "<div>\n",
       "<style scoped>\n",
       "    .dataframe tbody tr th:only-of-type {\n",
       "        vertical-align: middle;\n",
       "    }\n",
       "\n",
       "    .dataframe tbody tr th {\n",
       "        vertical-align: top;\n",
       "    }\n",
       "\n",
       "    .dataframe thead th {\n",
       "        text-align: right;\n",
       "    }\n",
       "</style>\n",
       "<table border=\"1\" class=\"dataframe\">\n",
       "  <thead>\n",
       "    <tr style=\"text-align: right;\">\n",
       "      <th></th>\n",
       "      <th>Name</th>\n",
       "    </tr>\n",
       "  </thead>\n",
       "  <tbody>\n",
       "    <tr>\n",
       "      <th>0</th>\n",
       "      <td>Bulbasaur</td>\n",
       "    </tr>\n",
       "    <tr>\n",
       "      <th>1</th>\n",
       "      <td>Ivysaur</td>\n",
       "    </tr>\n",
       "    <tr>\n",
       "      <th>2</th>\n",
       "      <td>Venusaur</td>\n",
       "    </tr>\n",
       "    <tr>\n",
       "      <th>3</th>\n",
       "      <td>Charmander</td>\n",
       "    </tr>\n",
       "    <tr>\n",
       "      <th>4</th>\n",
       "      <td>Charmeleon</td>\n",
       "    </tr>\n",
       "  </tbody>\n",
       "</table>\n",
       "</div>"
      ],
      "text/plain": [
       "         Name\n",
       "0   Bulbasaur\n",
       "1     Ivysaur\n",
       "2    Venusaur\n",
       "3  Charmander\n",
       "4  Charmeleon"
      ]
     },
     "execution_count": 120,
     "metadata": {},
     "output_type": "execute_result"
    }
   ],
   "source": [
    "pokemon_df.head()"
   ]
  },
  {
   "cell_type": "markdown",
   "metadata": {},
   "source": [
    "## Math Methods on Series Objects\n",
    "- The `count` method returns the number of values in the **Series**. It excludes missing values; the `size` attribute includes missing values.\n",
    "- The `sum` method adds together the **Series's** values.\n",
    "- The `product` method multiplies together the **Series's** values.\n",
    "- The `mean` method calculates the average of the **Series's** values.\n",
    "- The `std` method calculates the standard deviation of the **Series's** values.\n",
    "- The `max` method returns the largest value in the **Series**.\n",
    "- The `min` method returns the smallest value in the **Series**.\n",
    "- The `median` method returns the median of the **Series** (the value in the middle).\n",
    "- The `mode` method returns the mode of the **Series** (the most frequent alue).\n",
    "- The `describe` method returns a summary with various mathematical calculations."
   ]
  },
  {
   "cell_type": "code",
   "execution_count": 4,
   "metadata": {
    "tags": []
   },
   "outputs": [
    {
     "data": {
      "text/plain": [
       "0         2.490664\n",
       "1         2.515820\n",
       "2         2.758411\n",
       "3         2.770615\n",
       "4         2.614201\n",
       "           ...    \n",
       "4788    132.080002\n",
       "4789    132.998001\n",
       "4790    135.570007\n",
       "4791    137.050003\n",
       "4792    138.429993\n",
       "Name: Price, Length: 4793, dtype: float64"
      ]
     },
     "execution_count": 4,
     "metadata": {},
     "output_type": "execute_result"
    }
   ],
   "source": [
    "google = pd.read_csv(\"files/google_stock_price.csv\", usecols=[\"Price\"]).squeeze(\"columns\")\n",
    "google"
   ]
  },
  {
   "cell_type": "code",
   "execution_count": 6,
   "metadata": {
    "tags": []
   },
   "outputs": [
    {
     "data": {
      "text/plain": [
       "4793"
      ]
     },
     "execution_count": 6,
     "metadata": {},
     "output_type": "execute_result"
    }
   ],
   "source": [
    "google.count()\n",
    "google.size"
   ]
  },
  {
   "cell_type": "code",
   "execution_count": 13,
   "metadata": {
    "tags": []
   },
   "outputs": [
    {
     "name": "stderr",
     "output_type": "stream",
     "text": [
      "/opt/conda/envs/sagemaker-distribution/lib/python3.10/site-packages/numpy/core/_methods.py:53: RuntimeWarning: overflow encountered in reduce\n",
      "  return umr_prod(a, axis, dtype, out, keepdims, initial, where)\n"
     ]
    },
    {
     "data": {
      "text/plain": [
       "count    4793.000000\n",
       "mean       40.211377\n",
       "std        37.274753\n",
       "min         2.470490\n",
       "25%        12.767395\n",
       "50%        26.327717\n",
       "75%        56.311001\n",
       "max       151.863495\n",
       "Name: Price, dtype: float64"
      ]
     },
     "execution_count": 13,
     "metadata": {},
     "output_type": "execute_result"
    }
   ],
   "source": [
    "google.sum()\n",
    "google.product()\n",
    "google.mean()\n",
    "google.std()\n",
    "google.max()\n",
    "google.min()\n",
    "google.median()\n",
    "google.mode()\n",
    "google.describe()"
   ]
  },
  {
   "cell_type": "markdown",
   "metadata": {},
   "source": [
    "## Broadcasting\n",
    "- **Broadcasting** describes the process of applying an arithmetic operation to an array (i.e., a **Series**).\n",
    "- We can combine mathematical operators with a **Series** to apply the mathematical operation to every value.\n",
    "- There are also methods to accomplish the same results (`add`, `sub`, `mul`, `div`, etc.)"
   ]
  },
  {
   "cell_type": "code",
   "execution_count": 21,
   "metadata": {
    "tags": []
   },
   "outputs": [
    {
     "data": {
      "text/plain": [
       "0        1.245332\n",
       "1        1.257910\n",
       "2        1.379206\n",
       "3        1.385307\n",
       "4        1.307100\n",
       "          ...    \n",
       "4788    66.040001\n",
       "4789    66.499000\n",
       "4790    67.785004\n",
       "4791    68.525002\n",
       "4792    69.214996\n",
       "Name: Price, Length: 4793, dtype: float64"
      ]
     },
     "execution_count": 21,
     "metadata": {},
     "output_type": "execute_result"
    }
   ],
   "source": [
    "google.add(10)\n",
    "google + 10\n",
    "\n",
    "google.sub(30) \n",
    "google - 30\n",
    "\n",
    "google.mul(1.25)\n",
    "google * 1.25\n",
    "\n",
    "google.div(2)\n",
    "google / 2"
   ]
  },
  {
   "cell_type": "code",
   "execution_count": null,
   "metadata": {
    "tags": []
   },
   "outputs": [],
   "source": []
  },
  {
   "cell_type": "markdown",
   "metadata": {},
   "source": [
    "## The value_counts Method\n",
    "- The `value_counts` method returns the number of times each unique value occurs in the **Series**.\n",
    "- The `normalize` parameter returns the relative frequencies/percentages of the values instead of the counts."
   ]
  },
  {
   "cell_type": "code",
   "execution_count": 22,
   "metadata": {
    "tags": []
   },
   "outputs": [
    {
     "data": {
      "text/plain": [
       "Name\n",
       "Bulbasaur          Grass, Poison\n",
       "Ivysaur            Grass, Poison\n",
       "Venusaur           Grass, Poison\n",
       "Charmander                  Fire\n",
       "Charmeleon                  Fire\n",
       "                      ...       \n",
       "Iron Valiant     Fairy, Fighting\n",
       "Koraidon        Fighting, Dragon\n",
       "Miraidon        Electric, Dragon\n",
       "Walking Wake       Water, Dragon\n",
       "Iron Leaves       Grass, Psychic\n",
       "Name: Type, Length: 1010, dtype: object"
      ]
     },
     "execution_count": 22,
     "metadata": {},
     "output_type": "execute_result"
    }
   ],
   "source": [
    "pokemon = pd.read_csv(\"files/pokemon.csv\", index_col=\"Name\").squeeze(\"columns\")\n",
    "pokemon"
   ]
  },
  {
   "cell_type": "code",
   "execution_count": 30,
   "metadata": {
    "tags": []
   },
   "outputs": [
    {
     "data": {
      "text/plain": [
       "Type\n",
       "Water               7.33\n",
       "Normal              7.33\n",
       "Grass               4.55\n",
       "Psychic             3.86\n",
       "Fire                3.56\n",
       "                    ... \n",
       "Dragon, Normal      0.10\n",
       "Flying, Fighting    0.10\n",
       "Dragon, Water       0.10\n",
       "Ground, Fighting    0.10\n",
       "Fairy, Psychic      0.10\n",
       "Name: proportion, Length: 200, dtype: float64"
      ]
     },
     "execution_count": 30,
     "metadata": {},
     "output_type": "execute_result"
    }
   ],
   "source": [
    "pokemon.value_counts()\n",
    "pokemon.value_counts(ascending=True)\n",
    "pokemon.value_counts(normalize=True)\n",
    "pokemon.value_counts(normalize=True).mul(100).round(2)"
   ]
  },
  {
   "cell_type": "markdown",
   "metadata": {},
   "source": [
    "## The apply Method\n",
    "- The `apply` method accepts a function. It invokes that function on every `Series` value."
   ]
  },
  {
   "cell_type": "code",
   "execution_count": 32,
   "metadata": {
    "tags": []
   },
   "outputs": [
    {
     "data": {
      "text/plain": [
       "0     Bulbasaur\n",
       "1       Ivysaur\n",
       "2      Venusaur\n",
       "3    Charmander\n",
       "4    Charmeleon\n",
       "Name: Name, dtype: object"
      ]
     },
     "execution_count": 32,
     "metadata": {},
     "output_type": "execute_result"
    }
   ],
   "source": [
    "pokemon = pd.read_csv(\"files/pokemon.csv\", usecols=[\"Name\"]).squeeze(\"columns\")\n",
    "pokemon.head()"
   ]
  },
  {
   "cell_type": "code",
   "execution_count": 34,
   "metadata": {
    "tags": []
   },
   "outputs": [
    {
     "data": {
      "text/plain": [
       "0        9\n",
       "1        7\n",
       "2        8\n",
       "3       10\n",
       "4       10\n",
       "        ..\n",
       "1005    12\n",
       "1006     8\n",
       "1007     8\n",
       "1008    12\n",
       "1009    11\n",
       "Name: Name, Length: 1010, dtype: int64"
      ]
     },
     "execution_count": 34,
     "metadata": {},
     "output_type": "execute_result"
    }
   ],
   "source": [
    "pokemon.apply(len)"
   ]
  },
  {
   "cell_type": "code",
   "execution_count": 39,
   "metadata": {
    "tags": []
   },
   "outputs": [
    {
     "data": {
      "text/plain": [
       "Name\n",
       "0    467\n",
       "1    402\n",
       "2    115\n",
       "3     25\n",
       "4      1\n",
       "Name: count, dtype: int64"
      ]
     },
     "execution_count": 39,
     "metadata": {},
     "output_type": "execute_result"
    }
   ],
   "source": [
    "def count_of_a(pokemon):\n",
    "    return pokemon.count(\"a\")\n",
    "\n",
    "pokemon.apply(count_of_a)\n",
    "pokemon.apply(count_of_a).value_counts()"
   ]
  },
  {
   "cell_type": "markdown",
   "metadata": {},
   "source": [
    "## The map Method\n",
    "- The `map` method \"maps\" or connects each **Series** values to another value.\n",
    "- We can pass the method a dictionary or a **Series**. Both types connects keys to values.\n",
    "- The `map` method uses our argument to connect or bridge together the values."
   ]
  },
  {
   "cell_type": "code",
   "execution_count": 40,
   "metadata": {
    "tags": []
   },
   "outputs": [
    {
     "data": {
      "text/plain": [
       "Name\n",
       "Bulbasaur          Grass, Poison\n",
       "Ivysaur            Grass, Poison\n",
       "Venusaur           Grass, Poison\n",
       "Charmander                  Fire\n",
       "Charmeleon                  Fire\n",
       "                      ...       \n",
       "Iron Valiant     Fairy, Fighting\n",
       "Koraidon        Fighting, Dragon\n",
       "Miraidon        Electric, Dragon\n",
       "Walking Wake       Water, Dragon\n",
       "Iron Leaves       Grass, Psychic\n",
       "Name: Type, Length: 1010, dtype: object"
      ]
     },
     "execution_count": 40,
     "metadata": {},
     "output_type": "execute_result"
    }
   ],
   "source": [
    "pokemon = pd.read_csv(\"files/pokemon.csv\", index_col=\"Name\").squeeze(\"columns\")\n",
    "pokemon"
   ]
  },
  {
   "cell_type": "code",
   "execution_count": 44,
   "metadata": {
    "tags": []
   },
   "outputs": [
    {
     "data": {
      "text/plain": [
       "Grass              10\n",
       "Fire               15\n",
       "Water              15\n",
       "Fairy, Fighting    20\n",
       "Grass, Psychic     50\n",
       "dtype: int64"
      ]
     },
     "execution_count": 44,
     "metadata": {},
     "output_type": "execute_result"
    }
   ],
   "source": [
    "attack_powers = pd.Series({\n",
    "    \"Grass\": 10,\n",
    "    \"Fire\": 15,\n",
    "    \"Water\": 15,\n",
    "    \"Fairy, Fighting\": 20,\n",
    "    \"Grass, Psychic\": 50,\n",
    "})\n",
    "attack_powers"
   ]
  },
  {
   "cell_type": "code",
   "execution_count": 45,
   "metadata": {
    "tags": []
   },
   "outputs": [
    {
     "data": {
      "text/plain": [
       "Name\n",
       "Bulbasaur        NaN\n",
       "Ivysaur          NaN\n",
       "Venusaur         NaN\n",
       "Charmander      15.0\n",
       "Charmeleon      15.0\n",
       "                ... \n",
       "Iron Valiant    20.0\n",
       "Koraidon         NaN\n",
       "Miraidon         NaN\n",
       "Walking Wake     NaN\n",
       "Iron Leaves     50.0\n",
       "Name: Type, Length: 1010, dtype: float64"
      ]
     },
     "execution_count": 45,
     "metadata": {},
     "output_type": "execute_result"
    }
   ],
   "source": [
    "pokemon.map(attack_powers)"
   ]
  },
  {
   "cell_type": "code",
   "execution_count": null,
   "metadata": {},
   "outputs": [],
   "source": []
  },
  {
   "cell_type": "code",
   "execution_count": null,
   "metadata": {},
   "outputs": [],
   "source": []
  },
  {
   "cell_type": "code",
   "execution_count": null,
   "metadata": {},
   "outputs": [],
   "source": []
  }
 ],
 "metadata": {
  "anaconda-cloud": {},
  "kernelspec": {
   "display_name": "sagemaker-distribution:Python",
   "language": "python",
   "name": "conda-env-sagemaker-distribution-py"
  },
  "language_info": {
   "codemirror_mode": {
    "name": "ipython",
    "version": 3
   },
   "file_extension": ".py",
   "mimetype": "text/x-python",
   "name": "python",
   "nbconvert_exporter": "python",
   "pygments_lexer": "ipython3",
   "version": "3.10.14"
  }
 },
 "nbformat": 4,
 "nbformat_minor": 4
}
